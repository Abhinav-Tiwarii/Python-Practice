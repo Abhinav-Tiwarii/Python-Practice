{
 "cells": [
  {
   "cell_type": "markdown",
   "id": "5aecf7a1",
   "metadata": {},
   "source": [
    "My name is abhinav and I am practising Python Jupyter for data analytics and data engineering practice."
   ]
  },
  {
   "cell_type": "markdown",
   "id": "2380c5db",
   "metadata": {},
   "source": [
    "# Password Generator"
   ]
  },
  {
   "cell_type": "code",
   "execution_count": 1,
   "id": "db3f3af9",
   "metadata": {},
   "outputs": [],
   "source": [
    "import random"
   ]
  },
  {
   "cell_type": "code",
   "execution_count": 2,
   "id": "7f83a33e",
   "metadata": {},
   "outputs": [],
   "source": [
    "numbers = ['0', '1', '2', '3', '4', '5', '6', '7', '8', '9']\n",
    "symbols =['!', '#', '$', '%', '&', '(', ')', '*', '+']\n",
    "letters = ['A','B','C','D','E','F','I','J','G','H','K']"
   ]
  },
  {
   "cell_type": "code",
   "execution_count": 3,
   "id": "3845317e",
   "metadata": {},
   "outputs": [
    {
     "name": "stdout",
     "output_type": "stream",
     "text": [
      "Welcome to the password generator\n"
     ]
    }
   ],
   "source": [
    "print(\"Welcome to the password generator\")"
   ]
  },
  {
   "cell_type": "code",
   "execution_count": 4,
   "id": "345f9cd0",
   "metadata": {},
   "outputs": [
    {
     "name": "stdout",
     "output_type": "stream",
     "text": [
      "How many numbers you want to get displayed in your password generator? \n",
      "2\n",
      "How many symbols you want in your password? \n",
      "3\n",
      "How many letters you want in ur password? \n",
      "4\n"
     ]
    }
   ],
   "source": [
    "e_no = int(input(\"How many numbers you want to get displayed in your password generator? \\n\"))\n",
    "e_sy = int(input(\"How many symbols you want in your password? \\n\"))\n",
    "e_let= int(input(\"How many letters you want in ur password? \\n\"))"
   ]
  },
  {
   "cell_type": "code",
   "execution_count": 5,
   "id": "e6c84444",
   "metadata": {},
   "outputs": [
    {
     "name": "stdout",
     "output_type": "stream",
     "text": [
      "['A', 'D', 'G', 'F']\n",
      "['A', 'D', 'G', 'F', '$', ')', '*']\n",
      "['A', 'D', 'G', 'F', '$', ')', '*', '0', '1']\n",
      "['*', '0', '1', 'D', 'F', '$', 'A', ')', 'G']\n",
      "Your password is:  *01DF$A)G\n"
     ]
    }
   ],
   "source": [
    "password = []\n",
    "for i in range(1, e_let+1):\n",
    "    password.append(random.choice(letters))\n",
    "print(password)\n",
    "\n",
    "for i in range(1, e_sy+1):\n",
    "    password += random.choice(symbols)\n",
    "print(password)\n",
    "\n",
    "for i in range(1, e_no+1):\n",
    "    password += random.choice(numbers)\n",
    "print(password)\n",
    "\n",
    "random.shuffle(password)\n",
    "print(password)\n",
    "\n",
    "password_lst = \"\"\n",
    "for j in password:\n",
    "    password_lst = password_lst+j\n",
    "print(\"Your password is: \",password_lst)"
   ]
  }
 ],
 "metadata": {
  "kernelspec": {
   "display_name": "Python 3 (ipykernel)",
   "language": "python",
   "name": "python3"
  },
  "language_info": {
   "codemirror_mode": {
    "name": "ipython",
    "version": 3
   },
   "file_extension": ".py",
   "mimetype": "text/x-python",
   "name": "python",
   "nbconvert_exporter": "python",
   "pygments_lexer": "ipython3",
   "version": "3.9.13"
  }
 },
 "nbformat": 4,
 "nbformat_minor": 5
}
